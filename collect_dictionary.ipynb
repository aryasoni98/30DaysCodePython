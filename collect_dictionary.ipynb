{
 "cells": [
  {
   "cell_type": "markdown",
   "metadata": {},
   "source": [
    "# Inverts a dictionary with non-unique hashable values.\n",
    "\n",
    "    Create a defaultdict with list as the default value for each key.\n",
    "    Use dictionary.items() in combination with a loop to map the values of the dictionary to keys using append().\n",
    "    Use dict() to convert the defaultdict to a regular dictionary.\n"
   ]
  },
  {
   "cell_type": "code",
   "execution_count": 3,
   "metadata": {},
   "outputs": [],
   "source": [
    "from collections import defaultdict\n",
    "\n",
    "def collect_dictionary(obj):\n",
    "  inv_obj = defaultdict(list)\n",
    "  for key, value in obj.items():\n",
    "    inv_obj[value].append(key)\n",
    "  return dict(inv_obj)"
   ]
  },
  {
   "cell_type": "markdown",
   "metadata": {},
   "source": [
    "# Example"
   ]
  },
  {
   "cell_type": "code",
   "execution_count": 4,
   "metadata": {},
   "outputs": [
    {
     "data": {
      "text/plain": [
       "{10: ['Peter', 'Isabel'], 9: ['Anna']}"
      ]
     },
     "execution_count": 4,
     "metadata": {},
     "output_type": "execute_result"
    }
   ],
   "source": [
    "ages = {\n",
    "  \"Peter\": 10,\n",
    "  \"Isabel\": 10,\n",
    "  \"Anna\": 9,\n",
    "}\n",
    "collect_dictionary(ages)"
   ]
  }
 ],
 "metadata": {
  "kernelspec": {
   "display_name": "Python 3",
   "language": "python",
   "name": "python3"
  },
  "language_info": {
   "codemirror_mode": {
    "name": "ipython",
    "version": 3
   },
   "file_extension": ".py",
   "mimetype": "text/x-python",
   "name": "python",
   "nbconvert_exporter": "python",
   "pygments_lexer": "ipython3",
   "version": "3.8.3"
  }
 },
 "nbformat": 4,
 "nbformat_minor": 4
}
